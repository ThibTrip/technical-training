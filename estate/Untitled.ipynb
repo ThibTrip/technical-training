{
 "cells": [
  {
   "cell_type": "code",
   "execution_count": 5,
   "id": "ddb53f8d-6370-4667-b9ac-a0de026d95d2",
   "metadata": {},
   "outputs": [
    {
     "data": {
      "text/plain": [
       "[]"
      ]
     },
     "execution_count": 5,
     "metadata": {},
     "output_type": "execute_result"
    }
   ],
   "source": [
    "[k for k in env.keys() if 'estate' in k.lower()]"
   ]
  },
  {
   "cell_type": "code",
   "execution_count": 8,
   "id": "a0f14ef0-91ea-465f-96d3-386c292fd19a",
   "metadata": {},
   "outputs": [
    {
     "data": {
      "text/plain": [
       "res.users(1,)"
      ]
     },
     "execution_count": 8,
     "metadata": {},
     "output_type": "execute_result"
    }
   ],
   "source": []
  }
 ],
 "metadata": {
  "kernelspec": {
   "display_name": "Odoo-shell",
   "language": "",
   "name": "odoo"
  },
  "language_info": {
   "codemirror_mode": {
    "name": "ipython",
    "version": 3
   },
   "file_extension": ".py",
   "mimetype": "text/x-python",
   "name": "python",
   "nbconvert_exporter": "python",
   "pygments_lexer": "ipython3",
   "version": "3.10.4"
  }
 },
 "nbformat": 4,
 "nbformat_minor": 5
}
