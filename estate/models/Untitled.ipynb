{
 "cells": [
  {
   "cell_type": "code",
   "execution_count": null,
   "id": "d0daefa6-6e17-4a61-ab76-b59fb8567d8d",
   "metadata": {},
   "outputs": [],
   "source": [
    "from odoo import fields"
   ]
  },
  {
   "cell_type": "code",
   "execution_count": null,
   "id": "8a054e9a-c866-46d0-a498-d8e4c92b4ed3",
   "metadata": {},
   "outputs": [],
   "source": [
    "fields.Datetime.now()"
   ]
  }
 ],
 "metadata": {
  "kernelspec": {
   "display_name": "Odoo-shell",
   "language": "",
   "name": "odoo"
  },
  "language_info": {
   "name": ""
  }
 },
 "nbformat": 4,
 "nbformat_minor": 5
}
